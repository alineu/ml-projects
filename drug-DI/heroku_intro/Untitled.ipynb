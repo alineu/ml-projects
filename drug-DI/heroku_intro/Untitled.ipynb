{
 "cells": [
  {
   "cell_type": "code",
   "execution_count": 3,
   "metadata": {},
   "outputs": [
    {
     "name": "stdout",
     "output_type": "stream",
     "text": [
      "# packages in environment at /Users/Ali/miniconda3/envs/heroku_env:\r\n",
      "#\r\n",
      "# Name                    Version                   Build  Channel\r\n"
     ]
    }
   ],
   "source": [
    "!conda list -n heroku_env"
   ]
  },
  {
   "cell_type": "code",
   "execution_count": 6,
   "metadata": {},
   "outputs": [],
   "source": [
    "from IPython.core.magic import register_line_magic\n",
    "import sys\n",
    "import os\n",
    "from subprocess import Popen, PIPE\n",
    "\n",
    "\n",
    "def is_conda_environment():\n",
    "    \"\"\"Return True if the current Python executable is in a conda env\"\"\"\n",
    "    # TODO: make this work with Conda.exe in Windows\n",
    "    conda_exec = os.path.join(os.path.dirname(sys.executable), 'conda')\n",
    "    conda_history = os.path.join(sys.prefix, 'conda-meta', 'history')\n",
    "    return os.path.exists(conda_exec) and os.path.exists(conda_history)\n",
    "\n",
    "\n",
    "@register_line_magic\n",
    "def conda(args):\n",
    "    \"\"\"Use conda from the current kernel\"\"\"\n",
    "    # TODO: make this work with Conda.exe in Windows\n",
    "    # TODO: fix string encoding to work with Python 2\n",
    "    if not is_conda_environment():\n",
    "        raise ValueError(\"The python kernel does not appear to be a conda environment.  \"\n",
    "                         \"Please use ``%pip install`` instead.\")\n",
    "    \n",
    "    conda_executable = os.path.join(os.path.dirname(sys.executable), 'conda')\n",
    "    args = [conda_executable] + args.split()\n",
    "    \n",
    "    # Add --prefix to point conda installation to the current environment\n",
    "    if args[1] in ['install', 'update', 'upgrade', 'remove', 'uninstall', 'list']:\n",
    "        if '-p' not in args and '--prefix' not in args:\n",
    "            args.insert(2, '--prefix')\n",
    "            args.insert(3, sys.prefix)\n",
    "            \n",
    "    # Because the notebook does not allow us to respond \"yes\" during the\n",
    "    # installation, we need to insert --yes in the argument list for some commands\n",
    "    if args[1] in ['install', 'update', 'upgrade', 'remove', 'uninstall', 'create']:\n",
    "        if '-y' not in args and '--yes' not in args:\n",
    "            args.insert(2, '--yes')\n",
    "            \n",
    "    # Call conda from command line with subprocess & send results to stdout & stderr\n",
    "    with Popen(args, stdout=PIPE, stderr=PIPE) as process:\n",
    "        # Read stdout character by character, as it includes real-time progress updates\n",
    "        for c in iter(lambda: process.stdout.read(1), b''):\n",
    "            sys.stdout.write(c.decode(sys.stdout.encoding))\n",
    "        # Read stderr line by line, because real-time does not matter\n",
    "        for line in iter(process.stderr.readline, b''):\n",
    "            sys.stderr.write(line.decode(sys.stderr.encoding))"
   ]
  },
  {
   "cell_type": "code",
   "execution_count": null,
   "metadata": {},
   "outputs": [],
   "source": []
  }
 ],
 "metadata": {
  "kernelspec": {
   "display_name": "heroku_env",
   "language": "python",
   "name": "heroku_env"
  },
  "language_info": {
   "codemirror_mode": {
    "name": "ipython",
    "version": 3
   },
   "file_extension": ".py",
   "mimetype": "text/x-python",
   "name": "python",
   "nbconvert_exporter": "python",
   "pygments_lexer": "ipython3",
   "version": "3.6.10"
  }
 },
 "nbformat": 4,
 "nbformat_minor": 4
}
