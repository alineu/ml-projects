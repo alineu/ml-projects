{
 "cells": [
  {
   "cell_type": "markdown",
   "metadata": {},
   "source": [
    "## TLDR;"
   ]
  },
  {
   "cell_type": "markdown",
   "metadata": {},
   "source": [
    "Applications that we write require infrastructure. choose between learning **this**:\n",
    "![modern web architecture](https://github.com/alineu/ml-projects/blob/master/drug-DI/heroku_intro/images/infra.png?raw=true)\n",
    "where you need to learn about all these other services to be able to develop and scale your application\n",
    "\n",
    "**or** use a **platform**\n",
    "\n",
    "**Heroku**: Letting customers care about their application and Heroku take care of the infrastructure. It \n",
    "- Provides everything that you need to build, run, and scale a customer facing application\n",
    "- Proven scale as the largest scaling platform on the planet\n",
    "- Doesn't care what language you use\n",
    "- Developer oriented: `git push heroku master`\n",
    "- Continuous deployment: Write code locally on your laptop. push it to Heroku. See your App.\n",
    "- Very easy to rollback if you make mistake in your previous app releases (Like git!)\n",
    "\n",
    "### **Summary**\n",
    "\n",
    "![](http://jr0cket.co.uk/developer-guides/heroku-features.png)\n",
    "\n",
    "### **Workflow**\n",
    "\n",
    "![](http://jr0cket.co.uk/developer-guides/heroku-developer-team-workflow-overview.png)\n",
    "\n",
    "### **GitHub workflow overview**\n",
    "\n",
    "![](http://jr0cket.co.uk/developer-guides/heroku-developer-team-workflow-with-github.png)\n",
    "\n",
    "\n",
    "### **Basic commands cheatsheet**\n",
    "\n",
    "![](http://jr0cket.co.uk/developer-guides/heroku-quickstart-guide.png)"
   ]
  },
  {
   "cell_type": "markdown",
   "metadata": {},
   "source": [
    "# Simple app demo!"
   ]
  },
  {
   "cell_type": "markdown",
   "metadata": {},
   "source": [
    "**Note**: I found it a better practice to do the following using the command line instead of a Jupyter notebook!"
   ]
  },
  {
   "cell_type": "markdown",
   "metadata": {},
   "source": [
    "### 1. Open a terminal window and create a new environment using "
   ]
  },
  {
   "cell_type": "markdown",
   "metadata": {},
   "source": [
    "```\n",
    "virtualenv heroku_env\n",
    "source heroku_env/bin/activate\n",
    "python -m ipykernel install --user --name=heroku_env\n",
    "```"
   ]
  },
  {
   "cell_type": "markdown",
   "metadata": {},
   "source": [
    "The last one only if you want to use a dedicated-to-the-new-env Jupyter notebook!"
   ]
  },
  {
   "cell_type": "markdown",
   "metadata": {},
   "source": [
    "### 2. Create a directory for your app and install [`Flask`](https://flask.palletsprojects.com/en/1.1.x/) and [`gunicorn`](https://gunicorn.org/) in your python environment"
   ]
  },
  {
   "cell_type": "markdown",
   "metadata": {},
   "source": [
    "```\n",
    "mkdir heroku-test-app\n",
    "cd heroku-test-app\n",
    "pip install Flask gunicorn```"
   ]
  },
  {
   "cell_type": "markdown",
   "metadata": {},
   "source": [
    "#### Flask\n",
    "is a micro web framework written in Python. It is classified as a microframework because it does not require particular tools or libraries. \n",
    "#### Gunicorn\n",
    "is a Python Web Server Gateway Interface HTTP server, simply implemented, light on server resources and fairly fast."
   ]
  },
  {
   "cell_type": "markdown",
   "metadata": {},
   "source": [
    "### 3. write a simple app!"
   ]
  },
  {
   "cell_type": "markdown",
   "metadata": {},
   "source": [
    "**`hello.py`**"
   ]
  },
  {
   "cell_type": "markdown",
   "metadata": {},
   "source": [
    "```\n",
    "cat hello.py\n",
    "```"
   ]
  },
  {
   "cell_type": "markdown",
   "metadata": {},
   "source": [
    "outputs"
   ]
  },
  {
   "cell_type": "markdown",
   "metadata": {},
   "source": [
    "```\n",
    "import os\n",
    "from flask import Flask\n",
    "\n",
    "app = Flask(__name__)\n",
    "\n",
    "@app.route('/')\n",
    "def hello():\n",
    "    return 'Hello from Heroku app!'\n",
    "```"
   ]
  },
  {
   "cell_type": "markdown",
   "metadata": {},
   "source": [
    "### 4. run `gunicorn`"
   ]
  },
  {
   "cell_type": "markdown",
   "metadata": {},
   "source": [
    "```\n",
    "gunicorn hello:app```"
   ]
  },
  {
   "cell_type": "markdown",
   "metadata": {},
   "source": [
    "outputs"
   ]
  },
  {
   "cell_type": "markdown",
   "metadata": {},
   "source": [
    "```\n",
    "[2020-08-19 18:29:01 -0400] [5545] [INFO] Starting gunicorn 20.0.4\n",
    "[2020-08-19 18:29:01 -0400] [5545] [INFO] Listening at: http://127.0.0.1:8000 (5545)\n",
    "[2020-08-19 18:29:01 -0400] [5545] [INFO] Using worker: sync\n",
    "[2020-08-19 18:29:01 -0400] [5548] [INFO] Booting worker with pid: 5548```"
   ]
  },
  {
   "cell_type": "markdown",
   "metadata": {},
   "source": [
    "[http://127.0.0.1:8000]() `is the web address to the app!` which will display\n",
    "\n",
    "![](https://github.com/alineu/ml-projects/blob/master/drug-DI/heroku_intro/images/gunicorn.png?raw=true)"
   ]
  },
  {
   "cell_type": "markdown",
   "metadata": {},
   "source": [
    "### 5. Dependencies\n",
    "We now need to tell **Heroku** what are the **dependencies** i.e. the external packages that my Python app requires. The ***erosion resistance*** part is demonstrated where we specify the version number for each of these dependencies so if we run this app today, tomorrow, or in 5 years, it's gonna run exactly the same way!"
   ]
  },
  {
   "cell_type": "markdown",
   "metadata": {},
   "source": [
    "```\n",
    "pip freeze > requirements.txt```"
   ]
  },
  {
   "cell_type": "markdown",
   "metadata": {},
   "source": [
    "### 6. Procfile\n",
    "**Heroku** apps include a **Procfile** that specifies the commands that are executed by the app on startup. You can use a **Procfile** to declare a variety of process types, including:\n",
    "\n",
    " - Your app’s web server\n",
    " - Multiple types of worker processes\n",
    " - A singleton process, such as a clock\n",
    " - Tasks to run before a new release is deployed"
   ]
  },
  {
   "cell_type": "markdown",
   "metadata": {},
   "source": [
    "**`Procfile`**"
   ]
  },
  {
   "cell_type": "markdown",
   "metadata": {},
   "source": [
    "```\n",
    "cat heroku-test-app/Procfile```"
   ]
  },
  {
   "cell_type": "markdown",
   "metadata": {},
   "source": [
    "outputs"
   ]
  },
  {
   "cell_type": "markdown",
   "metadata": {},
   "source": [
    "```\n",
    "web: gunicorn hello:app --log-file -```"
   ]
  },
  {
   "cell_type": "markdown",
   "metadata": {},
   "source": [
    "Note that we have not run any command involving **Heroku** yet! The app directory structure now looks like"
   ]
  },
  {
   "cell_type": "markdown",
   "metadata": {},
   "source": [
    "```\n",
    "Procfile         __pycache__      hello.py         requirements.txt venv```"
   ]
  },
  {
   "cell_type": "markdown",
   "metadata": {},
   "source": [
    "### 7.  repo\n",
    "We initialize a repository and create a `.gitignore` file for the app repo that contains the *virtual environment*-related files and the potential `*.pyc` files. We then add all the files to the repo."
   ]
  },
  {
   "cell_type": "markdown",
   "metadata": {},
   "source": [
    "```\n",
    "git init```\n",
    "\n",
    "outputs\n",
    "\n",
    "```\n",
    "Initialized empty Git repository in path-to-the-app-repo/.git/```\n",
    "\n",
    "where `path-to-the-app-repo` is the local repo address. `.gitignore` contents:\n",
    "\n",
    "```\n",
    "cat .gitignore```\n",
    "\n",
    "outputs\n",
    "\n",
    "```\n",
    "venv\n",
    "*.pyc\n",
    "__pycache__```\n",
    "\n",
    "add the files and commit\n",
    "\n",
    "```\n",
    "git add .\n",
    "git commit -m \"initial commit\"```"
   ]
  },
  {
   "cell_type": "markdown",
   "metadata": {},
   "source": [
    "outputs"
   ]
  },
  {
   "cell_type": "markdown",
   "metadata": {},
   "source": [
    "```\n",
    "[master 18e469e] initial commit\n",
    " 4 files changed, 19 insertions(+)\n",
    " create mode 100644 .gitignore\n",
    " create mode 100644 Procfile\n",
    " create mode 100644 hello.py\n",
    " create mode 100644 requirements.txt```"
   ]
  },
  {
   "cell_type": "markdown",
   "metadata": {},
   "source": [
    "### 8.  Create the app\n",
    "At this point we have a code that runs locally. We now create our app using"
   ]
  },
  {
   "cell_type": "markdown",
   "metadata": {},
   "source": [
    "```\n",
    "heroku create heroku-test-ali```"
   ]
  },
  {
   "cell_type": "markdown",
   "metadata": {},
   "source": [
    "where `heroku-test-ali` is the app name."
   ]
  },
  {
   "cell_type": "markdown",
   "metadata": {},
   "source": [
    "outputs"
   ]
  },
  {
   "cell_type": "markdown",
   "metadata": {},
   "source": [
    "```\n",
    "›   Warning: heroku update available from 7.35.0 to 7.42.8.\n",
    "Creating ⬢ heroku-test-ali... done\n",
    "https://heroku-test-ali.herokuapp.com/ | https://git.heroku.com/heroku-test-ali.git```"
   ]
  },
  {
   "cell_type": "markdown",
   "metadata": {},
   "source": [
    "The url **`https://heroku-test-ali.herokuapp.com`** is going to be empty at this point as we have not deplyed the app yet!"
   ]
  },
  {
   "cell_type": "markdown",
   "metadata": {},
   "source": [
    "### 9. Deploy"
   ]
  },
  {
   "cell_type": "markdown",
   "metadata": {},
   "source": [
    "```\n",
    "git push heroku master```"
   ]
  },
  {
   "cell_type": "markdown",
   "metadata": {},
   "source": [
    "outputs"
   ]
  },
  {
   "cell_type": "markdown",
   "metadata": {},
   "source": [
    "```\n",
    "Counting objects: 13, done.\n",
    "Delta compression using up to 4 threads.\n",
    "Compressing objects: 100% (9/9), done.\n",
    "Writing objects: 100% (13/13), 1.45 KiB | 743.00 KiB/s, done.\n",
    "Total 13 (delta 1), reused 0 (delta 0)\n",
    "remote: Compressing source files... done.\n",
    "remote: Building source:\n",
    "remote: \n",
    "remote: -----> Python app detected\n",
    "remote: -----> Installing python-3.6.12\n",
    "...\n",
    "...\n",
    "remote: -----> Launching...\n",
    "remote:        Released v3\n",
    "remote:        https://heroku-test-ali.herokuapp.com/ deployed to Heroku\n",
    "remote: \n",
    "remote: Verifying deploy... done.\n",
    "To https://git.heroku.com/heroku-test-ali.git\n",
    " * [new branch]      master -> master```"
   ]
  },
  {
   "cell_type": "markdown",
   "metadata": {},
   "source": [
    "and finally, the app is **deployed and production ready**! Clicking on [https://heroku-test-ali.herokuapp.com](https://heroku-test-ali.herokuapp.com) will now show the app running as"
   ]
  },
  {
   "cell_type": "markdown",
   "metadata": {},
   "source": [
    "![](https://github.com/alineu/ml-projects/blob/master/drug-DI/heroku_intro/images/heroku_instance.png?raw=true)"
   ]
  },
  {
   "cell_type": "markdown",
   "metadata": {},
   "source": [
    "We can see the debug logging using"
   ]
  },
  {
   "cell_type": "markdown",
   "metadata": {},
   "source": [
    "```\n",
    "heroku logs -t```"
   ]
  },
  {
   "cell_type": "markdown",
   "metadata": {},
   "source": [
    "outputs"
   ]
  },
  {
   "cell_type": "markdown",
   "metadata": {},
   "source": [
    "```\n",
    "2020-08-20T17:44:13.214280+00:00 heroku[router]: at=info method=GET path=\"/\" host=heroku-test-ali.herokuapp.com request_id=ea95e456-fcb3-40b7-bbf0-e9db2980db81 fwd=\"73.219.241.170\" dyno=web.1 connect=1ms service=3ms status=200 bytes=182 protocol=https```"
   ]
  },
  {
   "cell_type": "markdown",
   "metadata": {},
   "source": [
    "## Making changes to the app and updating the remote"
   ]
  },
  {
   "cell_type": "markdown",
   "metadata": {},
   "source": [
    "Let's say we want to add some custom logging code to the package using the standard [`logging`](https://docs.python.org/2/library/logging.html) package of Python. The new **`hello.py`** will look like"
   ]
  },
  {
   "cell_type": "markdown",
   "metadata": {},
   "source": [
    "```\n",
    "import os\n",
    "import logging\n",
    "from flask import Flask\n",
    "\n",
    "app = Flask(__name__)\n",
    "logging.basicConfig(level=logging.DEBUG)\n",
    "\n",
    "@app.route('/')\n",
    "def hello():\n",
    "    logging.debug('just saying hi')\n",
    "    return 'Hello from Heroku app!'```"
   ]
  },
  {
   "cell_type": "markdown",
   "metadata": {},
   "source": [
    "what we need to do everytime we make a change is to commit that change to git and push it to the remote server"
   ]
  },
  {
   "cell_type": "markdown",
   "metadata": {},
   "source": [
    "```\n",
    "git add .\n",
    "git commit -m \"added logging\"\n",
    "git push heroku master```"
   ]
  },
  {
   "cell_type": "markdown",
   "metadata": {},
   "source": [
    "where the last step is required to see the changes on the app web-page. Debug logging now will show somthing like"
   ]
  },
  {
   "cell_type": "markdown",
   "metadata": {},
   "source": [
    "```\n",
    "2020-08-20T17:48:01.477391+00:00 heroku[router]: at=info method=GET path=\"/\" host=heroku-test-ali.herokuapp.com request_id=b67be91f-dd3e-409c-b1b4-3f937ef995d5 fwd=\"73.219.241.170\" dyno=web.1 connect=0ms service=2ms status=200 bytes=182 protocol=https\n",
    "2020-08-20T17:48:01.475491+00:00 app[web.1]: DEBUG:root:just saying hi\n",
    "2020-08-20T17:48:01.476128+00:00 app[web.1]: 10.141.51.8 - - [20/Aug/2020:17:48:01 +0000] \"GET / HTTP/1.1\" 200 22 \"-\" \"Mozilla/5.0 (Macintosh; Intel Mac OS X 10_13_6) AppleWebKit/537.36 (KHTML, like Gecko) Chrome/84.0.4147.125 Safari/537.36\"```"
   ]
  },
  {
   "cell_type": "markdown",
   "metadata": {},
   "source": [
    "to see requests coming from the **web** we can filter them using "
   ]
  },
  {
   "cell_type": "markdown",
   "metadata": {},
   "source": [
    "```\n",
    "heroku logs -t --source heroku```"
   ]
  },
  {
   "cell_type": "markdown",
   "metadata": {},
   "source": [
    "and to see the requests from the **router** "
   ]
  },
  {
   "cell_type": "markdown",
   "metadata": {},
   "source": [
    "```\n",
    "heroku logs -t --source app```"
   ]
  },
  {
   "cell_type": "markdown",
   "metadata": {},
   "source": [
    "## Heroku add-ons"
   ]
  },
  {
   "cell_type": "markdown",
   "metadata": {},
   "source": [
    "add-ons can be added as simple as"
   ]
  },
  {
   "cell_type": "markdown",
   "metadata": {},
   "source": [
    "```\n",
    "heroku addons:add add-on_name```"
   ]
  },
  {
   "cell_type": "markdown",
   "metadata": {},
   "source": [
    "<style>p{color:red;}</style>\n",
    "*foo*"
   ]
  },
  {
   "cell_type": "markdown",
   "metadata": {},
   "source": [
    "#### Reference: [Introduction to Heroku](https://www.youtube.com/watch?v=QTOkqzCTGxw)"
   ]
  }
 ],
 "metadata": {
  "kernelspec": {
   "display_name": "Python 3",
   "language": "python",
   "name": "python3"
  },
  "language_info": {
   "codemirror_mode": {
    "name": "ipython",
    "version": 3
   },
   "file_extension": ".py",
   "mimetype": "text/x-python",
   "name": "python",
   "nbconvert_exporter": "python",
   "pygments_lexer": "ipython3",
   "version": "3.6.10"
  }
 },
 "nbformat": 4,
 "nbformat_minor": 4
}
