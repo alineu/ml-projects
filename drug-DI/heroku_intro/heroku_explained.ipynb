{
 "cells": [
  {
   "cell_type": "markdown",
   "metadata": {},
   "source": [
    "## TLDR;"
   ]
  },
  {
   "cell_type": "markdown",
   "metadata": {},
   "source": [
    "Applications that we write require infrastructure. choose between learning **this**:\n",
    "![modern web architecture](https://github.com/alineu/ml-projects/blob/master/heroku_intro/images/infra.png?raw=true)\n",
    "where you need to learn about all these other services to be able to develop and scale your application\n",
    "\n",
    "**or** use a **platform**\n",
    "\n",
    "**Heroku**: Letting customers care about their application and Heroku take care of the infrastructure. It \n",
    "- Provides everything that you need to build, run, and scale a customer facing application\n",
    "- Proven scale as the largest scaling platform on the planet\n",
    "- Doesn't care what language you use\n",
    "- Developer oriented: `git push heroku master`\n",
    "- Continuous deployment: Write code locally on your laptop. push it to Heroku. See your App.\n",
    "- Very easy to rollback if you make mistake in your previous app releases (Like git!)\n",
    "\n",
    "### **Summary**\n",
    "\n",
    "![](http://jr0cket.co.uk/developer-guides/heroku-features.png)\n",
    "\n",
    "### **Workflow**\n",
    "\n",
    "![](http://jr0cket.co.uk/developer-guides/heroku-developer-team-workflow-overview.png)\n",
    "\n",
    "### **GitHub workflow overview**\n",
    "\n",
    "![](http://jr0cket.co.uk/developer-guides/heroku-developer-team-workflow-with-github.png)\n",
    "\n",
    "\n",
    "### **Basic commands cheatsheet**\n",
    "\n",
    "![](http://jr0cket.co.uk/developer-guides/heroku-quickstart-guide.png)"
   ]
  },
  {
   "cell_type": "markdown",
   "metadata": {},
   "source": [
    "# Simple app demo!"
   ]
  },
  {
   "cell_type": "markdown",
   "metadata": {},
   "source": [
    "**Note**: I found it a better practice to do the following using the command line instead of a Jupyter notebook!"
   ]
  },
  {
   "cell_type": "markdown",
   "metadata": {},
   "source": [
    "1. Open a terminal window and create a new environment using \n",
    "\n",
    "`virtualenv heroku_env\n",
    "source heroku_env/bin/activate`"
   ]
  },
  {
   "cell_type": "code",
   "execution_count": null,
   "metadata": {},
   "outputs": [],
   "source": [
    "`python -m ipykernel install --user --name=heroku_env`\n",
    "only if you want to use a dedicated-to-the-new-env Jupyter notebook!\n",
    "hide_cell()"
   ]
  },
  {
   "cell_type": "markdown",
   "metadata": {},
   "source": [
    "## 1. `bash`"
   ]
  },
  {
   "cell_type": "code",
   "execution_count": 2,
   "metadata": {},
   "outputs": [
    {
     "name": "stdout",
     "output_type": "stream",
     "text": [
      "/Users/Ali/repos/ml-projects/heroku_intro/heroku-test-app\n",
      "Requirement already satisfied: Flask in /Users/Ali/miniconda3/lib/python3.6/site-packages (1.1.2)\n",
      "Requirement already satisfied: gunicorn in /Users/Ali/miniconda3/lib/python3.6/site-packages (20.0.4)\n",
      "Requirement already satisfied: click>=5.1 in /Users/Ali/miniconda3/lib/python3.6/site-packages (from Flask) (7.1.2)\n",
      "Requirement already satisfied: Jinja2>=2.10.1 in /Users/Ali/miniconda3/lib/python3.6/site-packages (from Flask) (2.11.2)\n",
      "Requirement already satisfied: itsdangerous>=0.24 in /Users/Ali/miniconda3/lib/python3.6/site-packages (from Flask) (1.1.0)\n",
      "Requirement already satisfied: Werkzeug>=0.15 in /Users/Ali/miniconda3/lib/python3.6/site-packages (from Flask) (1.0.1)\n",
      "Requirement already satisfied: setuptools>=3.0 in /Users/Ali/miniconda3/lib/python3.6/site-packages (from gunicorn) (47.3.1.post20200622)\n",
      "Requirement already satisfied: MarkupSafe>=0.23 in /Users/Ali/miniconda3/lib/python3.6/site-packages (from Jinja2>=2.10.1->Flask) (1.1.1)\n"
     ]
    }
   ],
   "source": [
    "!mkdir heroku-test-app\n",
    "%cd heroku-test-app\n",
    "!pip install Flask gunicorn\n",
    "# Flask: is a micro web framework written in Python. \n",
    "#        It is classified as a microframework because it \n",
    "#        does not require particular tools or libraries.\n",
    "\n",
    "# Gunicorn: is a Python Web Server Gateway Interface HTTP\n",
    "#        server, simply implemented, light on server \n",
    "#        resources and fairly fast."
   ]
  },
  {
   "cell_type": "code",
   "execution_count": 3,
   "metadata": {},
   "outputs": [
    {
     "name": "stdout",
     "output_type": "stream",
     "text": [
      "Writing hello.py\n"
     ]
    }
   ],
   "source": [
    "%%writefile hello.py\n",
    "import os\n",
    "from flask import Flask\n",
    "\n",
    "app = Flask(__name__)\n",
    "\n",
    "@app.route('/')\n",
    "def hello():\n",
    "    return 'Hello from Heroku app!'"
   ]
  },
  {
   "cell_type": "code",
   "execution_count": 4,
   "metadata": {},
   "outputs": [
    {
     "name": "stdout",
     "output_type": "stream",
     "text": [
      "[2020-08-19 17:06:15 -0400] [4345] [INFO] Starting gunicorn 20.0.4\n",
      "[2020-08-19 17:06:15 -0400] [4345] [INFO] Listening at: http://127.0.0.1:8000 (4345)\n",
      "[2020-08-19 17:06:15 -0400] [4345] [INFO] Using worker: sync\n",
      "[2020-08-19 17:06:15 -0400] [4348] [INFO] Booting worker with pid: 4348\n",
      "^C\n",
      "[2020-08-19 17:06:35 -0400] [4345] [INFO] Handling signal: int\n",
      "[2020-08-19 17:06:35 -0400] [4348] [INFO] Worker exiting (pid: 4348)\n"
     ]
    }
   ],
   "source": [
    "!gunicorn hello:app"
   ]
  },
  {
   "cell_type": "markdown",
   "metadata": {},
   "source": [
    "[`http://127.0.0.1:8000`]() is the web address to the app!`"
   ]
  },
  {
   "cell_type": "markdown",
   "metadata": {},
   "source": [
    "Next, we need to tell **Heroku** what are the **dependencies** i.e. the external packages that my Python app requires. The ***erosion resistance*** part is demonstrated where we specify the version number for each of these dependencies so if we run this app today or tomorrow, it's gonna run exactly the same!"
   ]
  },
  {
   "cell_type": "code",
   "execution_count": 10,
   "metadata": {},
   "outputs": [],
   "source": [
    "# conda:\n",
    "# conda list --export > requirements.txt\n",
    "# pip:\n",
    "# pip freeze > requirements.txt"
   ]
  },
  {
   "cell_type": "markdown",
   "metadata": {},
   "source": [
    "**Heroku** apps include a **Procfile** that specifies the commands that are executed by the app on startup. You can use a **Procfile** to declare a variety of process types, including:\n",
    "\n",
    "- Your app’s web server\n",
    "- Multiple types of worker processes\n",
    "- A singleton process, such as a clock\n",
    "- Tasks to run before a new release is deployed"
   ]
  },
  {
   "cell_type": "code",
   "execution_count": 5,
   "metadata": {},
   "outputs": [
    {
     "name": "stdout",
     "output_type": "stream",
     "text": [
      "Writing Procfile\n"
     ]
    }
   ],
   "source": [
    "%%writefile Procfile\n",
    "web: gunicorn hello:app --log-file -"
   ]
  },
  {
   "cell_type": "code",
   "execution_count": 6,
   "metadata": {},
   "outputs": [
    {
     "name": "stdout",
     "output_type": "stream",
     "text": [
      "On branch master\r\n",
      "Your branch is up to date with 'origin/master'.\r\n",
      "\r\n",
      "Changes not staged for commit:\r\n",
      "  (use \"git add <file>...\" to update what will be committed)\r\n",
      "  (use \"git checkout -- <file>...\" to discard changes in working directory)\r\n",
      "\r\n",
      "\t\u001b[31mmodified:   ../heroku_explained.ipynb\u001b[m\r\n",
      "\t\u001b[31mmodified:   ../images/infra.png\u001b[m\r\n",
      "\r\n",
      "Untracked files:\r\n",
      "  (use \"git add <file>...\" to include in what will be committed)\r\n",
      "\r\n",
      "\t\u001b[31m../../LICENSE\u001b[m\r\n",
      "\t\u001b[31m../../Q2.ipynb\u001b[m\r\n",
      "\t\u001b[31m../../Refs/\u001b[m\r\n",
      "\t\u001b[31m../../drug-DI/__pycache__/\u001b[m\r\n",
      "\t\u001b[31m../../drug-DI/toggle_cell.py\u001b[m\r\n",
      "\t\u001b[31m../../heroku_env.yml\u001b[m\r\n",
      "\t\u001b[31m../Untitled.ipynb\u001b[m\r\n",
      "\t\u001b[31m./\u001b[m\r\n",
      "\t\u001b[31m../images/components.png\u001b[m\r\n",
      "\t\u001b[31m../../sentiment/\u001b[m\r\n",
      "\t\u001b[31m../../tmp/\u001b[m\r\n",
      "\t\u001b[31m../../twitter_credibility_score/\u001b[m\r\n",
      "\r\n",
      "no changes added to commit (use \"git add\" and/or \"git commit -a\")\r\n"
     ]
    }
   ],
   "source": [
    "!git status"
   ]
  },
  {
   "cell_type": "code",
   "execution_count": 12,
   "metadata": {},
   "outputs": [
    {
     "name": "stdout",
     "output_type": "stream",
     "text": [
      "Procfile     \u001b[1m\u001b[36m__pycache__\u001b[m\u001b[m/ hello.py\r\n"
     ]
    }
   ],
   "source": [
    "ls"
   ]
  },
  {
   "cell_type": "code",
   "execution_count": 17,
   "metadata": {},
   "outputs": [
    {
     "name": "stdout",
     "output_type": "stream",
     "text": [
      "/Users/Ali/.Trash/heroku-test-app 5.03.48 PM/heroku-test-app/heroku-test-app/heroku-test-app\r\n"
     ]
    }
   ],
   "source": [
    "!pwd"
   ]
  },
  {
   "cell_type": "markdown",
   "metadata": {},
   "source": [
    "## Reference: [Introduction to Heroku](https://www.youtube.com/watch?v=QTOkqzCTGxw)"
   ]
  },
  {
   "cell_type": "code",
   "execution_count": null,
   "metadata": {},
   "outputs": [],
   "source": []
  }
 ],
 "metadata": {
  "kernelspec": {
   "display_name": "Python 3",
   "language": "python",
   "name": "python3"
  },
  "language_info": {
   "codemirror_mode": {
    "name": "ipython",
    "version": 3
   },
   "file_extension": ".py",
   "mimetype": "text/x-python",
   "name": "python",
   "nbconvert_exporter": "python",
   "pygments_lexer": "ipython3",
   "version": "3.6.10"
  }
 },
 "nbformat": 4,
 "nbformat_minor": 4
}
